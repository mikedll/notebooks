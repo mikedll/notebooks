{
 "cells": [
  {
   "cell_type": "code",
   "execution_count": 16,
   "metadata": {
    "attributes": {
     "classes": [
      "tut"
     ],
     "id": ""
    }
   },
   "outputs": [
    {
     "name": "stdout",
     "output_type": "stream",
     "text": [
      "|----------|----------|\n",
      "|     16.61|     18.93|\n",
      "|     17.92|     19.19|\n",
      "|     19.04|     19.42|\n",
      "|     20.00|     19.61|\n",
      "|     20.85|     19.78|\n",
      "|     21.61|     19.93|\n"
     ]
    },
    {
     "data": {
      "text/plain": [
       "\u001b[32mimport \u001b[39m\u001b[36mscala.math\u001b[39m\n",
       "\u001b[36mexpr1\u001b[39m: \u001b[32mInt\u001b[39m => \u001b[32mDouble\u001b[39m = ammonite.$sess.cell16$Helper$$Lambda$2641/0x000074a25088a350@6cde3b6\n",
       "\u001b[36mexpr2\u001b[39m: \u001b[32mInt\u001b[39m => \u001b[32mDouble\u001b[39m = ammonite.$sess.cell16$Helper$$Lambda$2642/0x000074a25088a738@187a304c"
      ]
     },
     "execution_count": 16,
     "metadata": {},
     "output_type": "execute_result"
    }
   ],
   "source": [
    "import scala.math\n",
    "\n",
    "val expr1 = (n: Int) => 5 * (math.log10(n) / math.log10(2))\n",
    "val expr2 = (n: Int) => math.log10(50000 * n) / math.log10(2)\n",
    "\n",
    "println(\"|----------|----------|\")\n",
    "for(n <- Seq(10, 12,14,16,18,20)) {\n",
    "    val v1 = expr1(n)\n",
    "    val v2 = expr2(n)\n",
    "    println(f\"|$v1%10.2f|$v2%10.2f|\")\n",
    "}\n",
    "\n"
   ]
  },
  {
   "cell_type": "code",
   "execution_count": 2,
   "metadata": {},
   "outputs": [
    {
     "data": {
      "text/plain": [
       "\u001b[32mimport \u001b[39m\u001b[36m$ivy.$\u001b[39m\n",
       "\u001b[32mimport \u001b[39m\u001b[36mplotly._, plotly.element._, plotly.layout._, plotly.Almond._\n",
       "\n",
       "// if you want to have the plots available without an internet connection:\n",
       "// init(offline=true)\n",
       "\n",
       "// restrict the output height to avoid scrolling in output cells\n",
       "\u001b[39m"
      ]
     },
     "execution_count": 2,
     "metadata": {},
     "output_type": "execute_result"
    }
   ],
   "source": [
    "import $ivy.`org.plotly-scala::plotly-almond:0.7.1`\n",
    "import plotly._, plotly.element._, plotly.layout._, plotly.Almond._\n",
    "\n",
    "// if you want to have the plots available without an internet connection:\n",
    "// init(offline=true)\n",
    "\n",
    "// restrict the output height to avoid scrolling in output cells\n",
    "repl.pprinter() = repl.pprinter().copy(defaultHeight = 3)"
   ]
  },
  {
   "cell_type": "code",
   "execution_count": 11,
   "metadata": {},
   "outputs": [
    {
     "data": {
      "application/vnd.plotly.v1+json": {
       "data": [
        {
         "type": "scatter",
         "x": [
          1,
          2,
          3,
          4
         ],
         "y": [
          10,
          15,
          13,
          17
         ]
        },
        {
         "type": "scatter",
         "x": [
          1,
          2,
          3,
          4
         ],
         "y": [
          16,
          5,
          11,
          9
         ]
        }
       ],
       "layout": {}
      },
      "text/html": [
       "<div class=\"chart\" id=\"plot-4518e4e8-666a-4a08-823a-b8344a432c16\"></div>\n",
       "<script>require(['plotly'], function(Plotly) {\n",
       "  (function () {\n",
       "  var data0 = {\"x\":[1.0,2.0,3.0,4.0],\"type\":\"scatter\",\"y\":[10.0,15.0,13.0,17.0]};\n",
       "  var data1 = {\"x\":[1.0,2.0,3.0,4.0],\"type\":\"scatter\",\"y\":[16.0,5.0,11.0,9.0]};\n",
       "\n",
       "  var data = [data0, data1];\n",
       "  var layout = {};\n",
       "\n",
       "  Plotly.plot('plot-4518e4e8-666a-4a08-823a-b8344a432c16', data, layout);\n",
       "})();\n",
       "});\n",
       "      </script>\n",
       "           "
      ]
     },
     "metadata": {},
     "output_type": "display_data"
    },
    {
     "data": {
      "text/plain": [
       "\u001b[36mtrace1\u001b[39m: \u001b[32mScatter\u001b[39m = \u001b[33mScatter\u001b[39m(\n",
       "  x = \u001b[33mSome\u001b[39m(value = \u001b[33mDoubles\u001b[39m(seq = \u001b[33mList\u001b[39m(\u001b[32m1.0\u001b[39m, \u001b[32m2.0\u001b[39m, \u001b[32m3.0\u001b[39m, \u001b[32m4.0\u001b[39m))),\n",
       "...\n",
       "\u001b[36mtrace2\u001b[39m: \u001b[32mScatter\u001b[39m = \u001b[33mScatter\u001b[39m(\n",
       "  x = \u001b[33mSome\u001b[39m(value = \u001b[33mDoubles\u001b[39m(seq = \u001b[33mList\u001b[39m(\u001b[32m1.0\u001b[39m, \u001b[32m2.0\u001b[39m, \u001b[32m3.0\u001b[39m, \u001b[32m4.0\u001b[39m))),\n",
       "...\n",
       "\u001b[36mdata\u001b[39m: \u001b[32mSeq\u001b[39m[\u001b[32mScatter\u001b[39m] = \u001b[33mList\u001b[39m(\n",
       "  \u001b[33mScatter\u001b[39m(\n",
       "...\n",
       "\u001b[36mres11_3\u001b[39m: \u001b[32mString\u001b[39m = \u001b[32m\"plot-4518e4e8-666a-4a08-823a-b8344a432c16\"\u001b[39m"
      ]
     },
     "execution_count": 11,
     "metadata": {},
     "output_type": "execute_result"
    }
   ],
   "source": [
    "val trace1 = Scatter(\n",
    "  Seq(1, 2, 3, 4),\n",
    "  Seq(10, 15, 13, 17)\n",
    ")\n",
    "\n",
    "val trace2 = Scatter(\n",
    "  Seq(1, 2, 3, 4),\n",
    "  Seq(16, 5, 11, 9)\n",
    ")\n",
    "\n",
    "val data = Seq(trace1, trace2)\n",
    "\n",
    "plot(data)"
   ]
  },
  {
   "cell_type": "code",
   "execution_count": 9,
   "metadata": {},
   "outputs": [
    {
     "name": "stderr",
     "output_type": "stream",
     "text": [
      "cell10.sc:2: object Random is not a member of package ammonite.util\n",
      "val y1 = x.map(d => 2.0 * d + util.Random.nextGaussian())\n",
      "                                   ^\n",
      "cell10.sc:6: type mismatch;\n",
      " found   : IndexedSeq[Nothing]\n",
      " required: plotly.Sequence\n",
      "Note that implicit conversions are not applicable because they are ambiguous:\n",
      " both method fromDoubleSeq in object Sequence of type (s: Seq[Double]): plotly.Sequence\n",
      " and method fromFloatSeq in object Sequence of type (s: Seq[Float]): plotly.Sequence\n",
      " are possible conversion functions from IndexedSeq[Nothing] to plotly.Sequence\n",
      "Error occurred in an application involving default arguments.\n",
      "  Scatter(x, y1).withName(\"Approx twice\"),\n",
      "             ^\n",
      "cell10.sc:7: value withName is not a member of plotly.Scatter\n",
      "  Scatter(x, y2).withName(\"Exp\")\n",
      "                 ^\n",
      "Compilation Failed"
     ]
    }
   ],
   "source": [
    "val x = (0 to 100).map(_ * 0.1)\n",
    "val y1 = x.map(d => 2.0 * d + util.Random.nextGaussian())\n",
    "val y2 = x.map(math.exp)\n",
    "\n",
    "val plot = Seq(\n",
    "  Scatter(x, y1).withName(\"Approx twice\"),\n",
    "  Scatter(x, y2).withName(\"Exp\")\n",
    ")"
   ]
  },
  {
   "cell_type": "code",
   "execution_count": null,
   "metadata": {},
   "outputs": [],
   "source": []
  }
 ],
 "metadata": {
  "kernelspec": {
   "display_name": "Scala",
   "language": "scala",
   "name": "scala"
  },
  "language_info": {
   "codemirror_mode": "text/x-scala",
   "file_extension": ".sc",
   "mimetype": "text/x-scala",
   "name": "scala",
   "nbconvert_exporter": "script",
   "version": "2.13.12"
  }
 },
 "nbformat": 4,
 "nbformat_minor": 4
}
