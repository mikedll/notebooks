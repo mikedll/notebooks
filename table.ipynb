{
 "cells": [
  {
   "cell_type": "code",
   "execution_count": 16,
   "metadata": {
    "attributes": {
     "classes": [
      "tut"
     ],
     "id": ""
    }
   },
   "outputs": [
    {
     "name": "stdout",
     "output_type": "stream",
     "text": [
      "|----------|----------|\n",
      "|     16.61|     18.93|\n",
      "|     17.92|     19.19|\n",
      "|     19.04|     19.42|\n",
      "|     20.00|     19.61|\n",
      "|     20.85|     19.78|\n",
      "|     21.61|     19.93|\n"
     ]
    },
    {
     "data": {
      "text/plain": [
       "\u001b[32mimport \u001b[39m\u001b[36mscala.math\u001b[39m\n",
       "\u001b[36mexpr1\u001b[39m: \u001b[32mInt\u001b[39m => \u001b[32mDouble\u001b[39m = ammonite.$sess.cell16$Helper$$Lambda$2641/0x000074a25088a350@6cde3b6\n",
       "\u001b[36mexpr2\u001b[39m: \u001b[32mInt\u001b[39m => \u001b[32mDouble\u001b[39m = ammonite.$sess.cell16$Helper$$Lambda$2642/0x000074a25088a738@187a304c"
      ]
     },
     "execution_count": 16,
     "metadata": {},
     "output_type": "execute_result"
    }
   ],
   "source": [
    "import scala.math\n",
    "\n",
    "val expr1 = (n: Int) => 5 * (math.log10(n) / math.log10(2))\n",
    "val expr2 = (n: Int) => math.log10(50000 * n) / math.log10(2)\n",
    "\n",
    "println(\"|----------|----------|\")\n",
    "for(n <- Seq(10, 12,14,16,18,20)) {\n",
    "    val v1 = expr1(n)\n",
    "    val v2 = expr2(n)\n",
    "    println(f\"|$v1%10.2f|$v2%10.2f|\")\n",
    "}\n",
    "\n"
   ]
  },
  {
   "cell_type": "code",
   "execution_count": null,
   "metadata": {},
   "outputs": [],
   "source": []
  }
 ],
 "metadata": {
  "kernelspec": {
   "display_name": "Scala",
   "language": "scala",
   "name": "scala"
  },
  "language_info": {
   "codemirror_mode": "text/x-scala",
   "file_extension": ".sc",
   "mimetype": "text/x-scala",
   "name": "scala",
   "nbconvert_exporter": "script",
   "version": "2.13.12"
  }
 },
 "nbformat": 4,
 "nbformat_minor": 4
}
